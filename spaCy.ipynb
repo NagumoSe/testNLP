{
 "cells": [
  {
   "cell_type": "code",
   "execution_count": null,
   "metadata": {},
   "outputs": [
    {
     "ename": "SyntaxError",
     "evalue": "invalid syntax (<ipython-input-2-6493601b229c>, line 4)",
     "output_type": "error",
     "traceback": [
      "\u001b[0;36m  File \u001b[0;32m\"<ipython-input-2-6493601b229c>\"\u001b[0;36m, line \u001b[0;32m4\u001b[0m\n\u001b[0;31m    nlp: spacy.Language = spacy.load('ja_ginza')\u001b[0m\n\u001b[0m       ^\u001b[0m\n\u001b[0;31mSyntaxError\u001b[0m\u001b[0;31m:\u001b[0m invalid syntax\n"
     ]
    }
   ],
   "source": [
    "import spacy\n",
    "\n",
    "nlp: spacy.Language = spacy.load('ja_ginza')\n",
    "\n",
    "#text を　Doc　クラスに変換する\n",
    "text: str = '錦織圭選手はテニスが大好きです'\n",
    "doc: spacy.tokens.doc.Doc = nlp(text)\n",
    "\n",
    "\n",
    "#DocクラスはTokenクラスのイテレーターになっている\n",
    "for token in doc:\n",
    "    print(token.text, type(token))\n",
    "\n",
    "    from spacy import displacy\n",
    "\n",
    "# 依存関係の可視化（jupyter=TrueとすることでNotebook上で表示できる）\n",
    "displacy.render(doc, style=\"dep\", options={\"compact\":True},  jupyter=True)"
   ]
  },
  {
   "cell_type": "code",
   "execution_count": null,
   "metadata": {},
   "outputs": [],
   "source": []
  }
 ],
 "metadata": {
  "interpreter": {
   "hash": "31f2aee4e71d21fbe5cf8b01ff0e069b9275f58929596ceb00d14d90e3e16cd6"
  },
  "kernelspec": {
   "display_name": "Python 3.5.2 64-bit",
   "language": "python",
   "name": "python3"
  },
  "language_info": {
   "codemirror_mode": {
    "name": "ipython",
    "version": 3
   },
   "file_extension": ".py",
   "mimetype": "text/x-python",
   "name": "python",
   "nbconvert_exporter": "python",
   "pygments_lexer": "ipython3",
   "version": "3.5.2"
  },
  "orig_nbformat": 4
 },
 "nbformat": 4,
 "nbformat_minor": 2
}

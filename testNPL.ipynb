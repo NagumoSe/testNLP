{
 "cells": [
  {
   "cell_type": "code",
   "execution_count": 4,
   "metadata": {},
   "outputs": [],
   "source": [
    "from pathlib import Path\n",
    "import re\n",
    "import time \n",
    "import requests\n",
    "import pandas as pd\n",
    "import urllib\n",
    "from bs4 import BeautifulSoup\n",
    "from tqdm import tqdm\n",
    "\n",
    "data_dir_path = Path('data')\n",
    "if not data_dir_path.exists():\n",
    "    data_dir_path.mkdir(parents=True)"
   ]
  },
  {
   "cell_type": "code",
   "execution_count": 5,
   "metadata": {},
   "outputs": [],
   "source": [
    "def download_data(url, data_dir_path):\n",
    "    \n",
    "    file_path = data_dir_path.joinpath(Path(url).name)\n",
    "\n",
    "    data = requests.get(url).content\n",
    "    with open(file_path, 'wb') as file:\n",
    "        file.write(data)\n",
    "\n",
    "url = 'https://raw.githubusercontent.com/KodairaTomonori/ThreeLineSummaryDataset/master/data/train.csv'\n",
    "download_data(url=url, data_dir_path=data_dir_path)\n",
    "\n",
    "url = 'https://raw.githubusercontent.com/KodairaTomonori/ThreeLineSummaryDataset/master/data/test.csv'\n",
    "download_data(url=url, data_dir_path=data_dir_path)"
   ]
  },
  {
   "cell_type": "code",
   "execution_count": 10,
   "metadata": {},
   "outputs": [
    {
     "ename": "NameError",
     "evalue": "name 'body_data_file_path' is not defined",
     "output_type": "error",
     "traceback": [
      "\u001b[0;31m---------------------------------------------------------------------------\u001b[0m",
      "\u001b[0;31mNameError\u001b[0m                                 Traceback (most recent call last)",
      "\u001b[0;32m/tmp/ipykernel_28537/1196442375.py\u001b[0m in \u001b[0;36m<module>\u001b[0;34m\u001b[0m\n\u001b[1;32m     40\u001b[0m )\n\u001b[1;32m     41\u001b[0m \u001b[0;34m\u001b[0m\u001b[0m\n\u001b[0;32m---> 42\u001b[0;31m \u001b[0;32mif\u001b[0m \u001b[0mbody_data_file_path\u001b[0m\u001b[0;34m.\u001b[0m\u001b[0mexists\u001b[0m\u001b[0;34m(\u001b[0m\u001b[0;34m)\u001b[0m\u001b[0;34m:\u001b[0m\u001b[0;34m\u001b[0m\u001b[0;34m\u001b[0m\u001b[0m\n\u001b[0m\u001b[1;32m     43\u001b[0m     articles = anti_join(\n\u001b[1;32m     44\u001b[0m         \u001b[0marticles\u001b[0m\u001b[0;34m,\u001b[0m\u001b[0;34m\u001b[0m\u001b[0;34m\u001b[0m\u001b[0m\n",
      "\u001b[0;31mNameError\u001b[0m: name 'body_data_file_path' is not defined"
     ]
    }
   ],
   "source": [
    "def anti_join(data1, data2, by):\n",
    "\n",
    "    joined_data = data1.copy()\n",
    "    target_data = data2.copy()\n",
    "    target_data['flag_tmp'] = 1\n",
    "\n",
    "    if type(by) is str:\n",
    "        by = [by]\n",
    "\n",
    "    joined_data = pd.merge(\n",
    "        joined_data, target_data[by + ['flag_tmp']].drop_duplicates(),\n",
    "        on=by, how='left'\n",
    "    ).query('flag_tmp.isnull()', engine='python').drop(columns='flag_tmp').copy()\n",
    "\n",
    "    return joined_data\n",
    "\n",
    "columns = ['year', 'month', 'category', 'article_id', 'type_label']\n",
    "\n",
    "articles = pd.DataFrame()\n",
    "for data_name in ['train.csv', 'test.csv']:\n",
    "    data = pd.read_csv(data_dir_path.joinpath(data_name))\n",
    "    tmp = data.columns.tolist()\n",
    "    if data_name == 'train.csv':\n",
    "        data.columns = columns[:-1]\n",
    "        data = pd.concat([\n",
    "            data, pd.DataFrame([tmp], columns=columns[:-1])\n",
    "        ], axis=0)\n",
    "        data['type_label'] = None\n",
    "    else:\n",
    "        data.columns = columns\n",
    "        data = pd.concat([\n",
    "            data, pd.DataFrame([tmp], columns=columns)\n",
    "        ], axis=0)\n",
    "        \n",
    "    articles = pd.concat([articles, data], axis=0)\n",
    "\n",
    "articles = articles.assign(\n",
    "    year=lambda x: x.year.astype(int),\n",
    "    article_id=lambda x: x.article_id.map(lambda y: re.sub(r'[a-z\\.]', '', str(y))).astype(int)\n",
    ")\n",
    "\n",
    "if body_data_file_path.exists():\n",
    "    articles = anti_join(\n",
    "        articles,\n",
    "        pd.read_csv(body_data_file_path).assign(article_id=lambda x: x.article_id.astype(int)),\n",
    "        by='article_id'\n",
    "    )"
   ]
  },
  {
   "cell_type": "code",
   "execution_count": null,
   "metadata": {},
   "outputs": [],
   "source": [
    "waiting_time = 3              # スクレイピングの間隔\n",
    "n_writing_data = 10000        # 取得する件数 \n",
    "article_url = 'http://news.livedoor.com/article/detail/{}/'\n",
    "body_data_file_path = data_dir_path.joinpath('body_data.csv')\n",
    "summary_data_file_path = data_dir_path.joinpath('summary_data.csv')\n",
    "\n",
    "target_articles = articles.sort_values(\n",
    "    'year', ascending=False\n",
    ").head(min(len(articles), n_writing_data))"
   ]
  }
 ],
 "metadata": {
  "interpreter": {
   "hash": "bd1e28d9b8f161f331e3b6c76987692a1c41a7261a9c401d9d6717c4d81bbcc7"
  },
  "kernelspec": {
   "display_name": "Python 3.7.9 ('venv': venv)",
   "language": "python",
   "name": "python3"
  },
  "language_info": {
   "codemirror_mode": {
    "name": "ipython",
    "version": 3
   },
   "file_extension": ".py",
   "mimetype": "text/x-python",
   "name": "python",
   "nbconvert_exporter": "python",
   "pygments_lexer": "ipython3",
   "version": "3.7.9"
  },
  "orig_nbformat": 4
 },
 "nbformat": 4,
 "nbformat_minor": 2
}

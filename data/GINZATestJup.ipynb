{
 "cells": [
  {
   "cell_type": "code",
   "execution_count": 1,
   "metadata": {},
   "outputs": [
    {
     "name": "stderr",
     "output_type": "stream",
     "text": [
      "/home/nagumo/venv/lib/python3.7/site-packages/torch/cuda/__init__.py:52: UserWarning: CUDA initialization: Found no NVIDIA driver on your system. Please check that you have an NVIDIA GPU and installed a driver from http://www.nvidia.com/Download/index.aspx (Triggered internally at  /pytorch/c10/cuda/CUDAFunctions.cpp:100.)\n",
      "  return torch._C._cuda_getDeviceCount() > 0\n"
     ]
    }
   ],
   "source": [
    "import spacy\n",
    "\n",
    "nlp: spacy.language = spacy.load('ja_ginza')"
   ]
  },
  {
   "cell_type": "code",
   "execution_count": 3,
   "metadata": {},
   "outputs": [
    {
     "name": "stdout",
     "output_type": "stream",
     "text": [
      "議事録 <class 'spacy.tokens.token.Token'>\n",
      "の <class 'spacy.tokens.token.Token'>\n",
      "自動 <class 'spacy.tokens.token.Token'>\n",
      "作成 <class 'spacy.tokens.token.Token'>\n",
      "に <class 'spacy.tokens.token.Token'>\n",
      "つい <class 'spacy.tokens.token.Token'>\n",
      "て <class 'spacy.tokens.token.Token'>\n",
      "佐藤 <class 'spacy.tokens.token.Token'>\n",
      "さん <class 'spacy.tokens.token.Token'>\n",
      "説明 <class 'spacy.tokens.token.Token'>\n",
      "を <class 'spacy.tokens.token.Token'>\n",
      "お <class 'spacy.tokens.token.Token'>\n",
      "願い <class 'spacy.tokens.token.Token'>\n",
      "し <class 'spacy.tokens.token.Token'>\n",
      "ます <class 'spacy.tokens.token.Token'>\n",
      "。 <class 'spacy.tokens.token.Token'>\n",
      "はい <class 'spacy.tokens.token.Token'>\n",
      "佐藤 <class 'spacy.tokens.token.Token'>\n",
      "です <class 'spacy.tokens.token.Token'>\n",
      "。 <class 'spacy.tokens.token.Token'>\n",
      "まず <class 'spacy.tokens.token.Token'>\n",
      "資料 <class 'spacy.tokens.token.Token'>\n",
      "の <class 'spacy.tokens.token.Token'>\n",
      "1 <class 'spacy.tokens.token.Token'>\n",
      "を <class 'spacy.tokens.token.Token'>\n",
      "ご覧 <class 'spacy.tokens.token.Token'>\n",
      "ください <class 'spacy.tokens.token.Token'>\n",
      "。 <class 'spacy.tokens.token.Token'>\n"
     ]
    }
   ],
   "source": [
    "import spacy\n",
    "\n",
    "nlp: spacy.language = spacy.load('ja_ginza')\n",
    "\n",
    "#textをDocクラスに変換する\n",
    "text: str = '議事録の自動作成について佐藤さん説明をお願いします。はい佐藤です。まず資料の1をご覧ください。'\n",
    "doc: spacy.tokens.doc.Doc = nlp(text)\n",
    "\n",
    "#DocクラスはTokenクラスのイテレーターになっている\n",
    "for token in doc:\n",
    "    print(token.text, type(token))# token.text は日本語の形態素の単位"
   ]
  },
  {
   "cell_type": "code",
   "execution_count": 4,
   "metadata": {},
   "outputs": [
    {
     "name": "stdout",
     "output_type": "stream",
     "text": [
      "議事録   PROPN ═╗<════╗       nmod(体言による連体修飾語)\n",
      "の       ADP   <╝     ║       case(格表示)\n",
      "自動     NOUN  <╗     ║       compound(複合)\n",
      "作成     NOUN  ═╝═══╗═╝<══╗   obl(斜格補語)\n",
      "に       ADP   ═╗═╗<╝     ║   case(格表示)\n",
      "つい     VERB  <╝ ║       ║   fixed(固着)\n",
      "て       SCONJ <══╝       ║   fixed(固着)\n",
      "佐藤     PROPN <╗         ║   compound(複合)\n",
      "さん     NOUN  ═╝<══════╗ ║   obl(斜格補語)\n",
      "説明     NOUN  ═╗<════╗ ║ ║   obj(目的語)\n",
      "を       ADP   <╝     ║ ║ ║   case(格表示)\n",
      "お       NOUN  <╗     ║ ║ ║   compound(複合)\n",
      "願い     VERB  ═╝═╗═╗═╝═╝═╝═╗ ROOT(親)\n",
      "し       AUX   <══╝ ║       ║ aux(動詞補助成分)\n",
      "ます     AUX   <════╝       ║ aux(動詞補助成分)\n",
      "。       PUNCT <════════════╝ punct(句読点)\n",
      "はい     INTJ  <══╗           advmod(連用修飾語)\n",
      "佐藤     PROPN ═╗═╝═╗         ROOT(親)\n",
      "です     AUX   <╝   ║         cop(繫辞)\n",
      "。       PUNCT <════╝         punct(句読点)\n",
      "まず     ADV   <══════╗       advmod(連用修飾語)\n",
      "資料     NOUN  ═╗<╗   ║       nmod(体言による連体修飾語)\n",
      "の       ADP   <╝ ║   ║       case(格表示)\n",
      "1        NUM   ═╗═╝<╗ ║       obj(目的語)\n",
      "を       ADP   <╝   ║ ║       case(格表示)\n",
      "ご覧     NOUN  ═╗═══╝═╝═╗     ROOT(親)\n",
      "ください AUX   <╝       ║     aux(動詞補助成分)\n",
      "。       PUNCT <════════╝     punct(句読点)\n"
     ]
    }
   ],
   "source": [
    "from spacy import displacy\n",
    "import deplacy\n",
    "#依存関係のの可視化(jupyter=TrueとすることでNotebook上で表示)\n",
    "#displacy.render(doc, style=\"dep\", options={\"compact\":True}, jupyter=True)\n",
    "deplacy.render(doc, Japanese=True)  # 依存構造の出力"
   ]
  },
  {
   "cell_type": "code",
   "execution_count": 8,
   "metadata": {},
   "outputs": [
    {
     "name": "stderr",
     "output_type": "stream",
     "text": [
      "/home/nagumo/venv/lib/python3.7/site-packages/spacy/displacy/__init__.py:200: UserWarning: [W006] No entities to visualize found in Doc object. If this is surprising to you, make sure the Doc was processed using a model that supports named entity recognition, and check the `doc.ents` property manually if necessary.\n",
      "  warnings.warn(Warnings.W006)\n"
     ]
    },
    {
     "data": {
      "text/html": [
       "<span class=\"tex2jax_ignore\"><div class=\"entities\" style=\"line-height: 2.5; direction: ltr\">履修申告確認作業のため、教務内の履修情報・時間割情報・成績情報メニューは利用できません。</div></span>"
      ],
      "text/plain": [
       "<IPython.core.display.HTML object>"
      ]
     },
     "metadata": {},
     "output_type": "display_data"
    }
   ],
   "source": [
    "#エンティティの可視化（jupyter=TrueとすることでNotebook上で表示できる）\n",
    "displacy.render(doc,style=\"ent\",options={\"compact\":True}, jupyter=True)"
   ]
  },
  {
   "cell_type": "code",
   "execution_count": 9,
   "metadata": {},
   "outputs": [],
   "source": [
    "for ent in doc.ents:\n",
    "    print(ent.text, type(ent))"
   ]
  },
  {
   "cell_type": "code",
   "execution_count": 10,
   "metadata": {},
   "outputs": [],
   "source": [
    "for ent in doc.ents:\n",
    "    for token in ent:\n",
    "        print(token.text, type(token))"
   ]
  },
  {
   "cell_type": "code",
   "execution_count": 11,
   "metadata": {},
   "outputs": [
    {
     "name": "stdout",
     "output_type": "stream",
     "text": [
      "追加・訂正 <class 'spacy.tokens.span.Span'>\n",
      "ない場合 <class 'spacy.tokens.span.Span'>\n",
      "手続き <class 'spacy.tokens.span.Span'>\n",
      "必要 <class 'spacy.tokens.span.Span'>\n",
      "申告内容 <class 'spacy.tokens.span.Span'>\n",
      "確認 <class 'spacy.tokens.span.Span'>\n"
     ]
    }
   ],
   "source": [
    "doc2 = nlp('追加・訂正がない場合は、手続きの必要はありませんが、申告内容の確認は、必ず行ってください。')\n",
    "\n",
    "#noun_chunksでテキスト文に含まれる名詞句を取り出す\n",
    "for chunk in doc2.noun_chunks:\n",
    "    print (chunk.text,type(chunk))"
   ]
  },
  {
   "cell_type": "code",
   "execution_count": 12,
   "metadata": {},
   "outputs": [
    {
     "name": "stdout",
     "output_type": "stream",
     "text": [
      "追加 名詞-普通名詞-サ変可能 <class 'spacy.tokens.token.Token'>\n",
      "訂正 名詞-普通名詞-サ変可能 <class 'spacy.tokens.token.Token'>\n",
      "場合 名詞-普通名詞-副詞可能 <class 'spacy.tokens.token.Token'>\n",
      "手続き 名詞-普通名詞-サ変可能 <class 'spacy.tokens.token.Token'>\n",
      "必要 名詞-普通名詞-形状詞可能 <class 'spacy.tokens.token.Token'>\n",
      "申告内容 名詞-普通名詞-一般 <class 'spacy.tokens.token.Token'>\n",
      "確認 名詞-普通名詞-サ変可能 <class 'spacy.tokens.token.Token'>\n"
     ]
    }
   ],
   "source": [
    "#品詞タグから名詞の単語を抽出する\n",
    "for token in doc2:\n",
    "    if token.pos_ in ['NOUN','PROPN']: #NOUNが名詞 PROPNが固有名詞\n",
    "        print(token.text, token.tag_, type(token))"
   ]
  },
  {
   "cell_type": "code",
   "execution_count": 14,
   "metadata": {},
   "outputs": [
    {
     "name": "stdout",
     "output_type": "stream",
     "text": [
      "doc1 履修申告確認作業のため、教務内の履修情報・時間割情報・成績情報メニューは利用できません。\n",
      "doc2 追加・訂正がない場合は、手続きの必要はありませんが、申告内容の確認は、必ず行ってください。\n",
      "cos類似度: 0.8223164285474569\n"
     ]
    }
   ],
   "source": [
    "print('doc1',doc.text)\n",
    "print('doc2',doc2.text)\n",
    "\n",
    "#2つの文の類似度を求める\n",
    "print('cos類似度:',doc.similarity(doc2))"
   ]
  },
  {
   "cell_type": "code",
   "execution_count": 15,
   "metadata": {},
   "outputs": [
    {
     "name": "stdout",
     "output_type": "stream",
     "text": [
      "[('他専攻科目登録方法を抜粋したマニュアル', 0.8835477466752312), ('他専攻・他分野科目履修', 0.7159048250893121), ('ため」等', 0.7113177856073906), ('登録後', 0.6977805363289169), ('必要なため', 0.6886598695834429), ('「興味', 0.6687353848183123), ('「学内共有ファイル', 0.6552330548052744), ('理由', 0.5839008301697343), ('「修士論文', 0.5708145149749616), ('指導教員', 0.5606937491925424)]\n"
     ]
    },
    {
     "name": "stderr",
     "output_type": "stream",
     "text": [
      "/home/nagumo/venv/lib/python3.7/site-packages/ipykernel_launcher.py:10: UserWarning: [W008] Evaluating Span.similarity based on empty vectors.\n",
      "  # Remove the CWD from sys.path while we load stuff.\n"
     ]
    }
   ],
   "source": [
    "text3 = '''\n",
    "修士課程の他専攻・他分野科目履修は、Web登録になります。指導教員に事前相談し、確認のうえWeb登録してください。登録後、指導教員のWeb承認が必要ですので、登録したことを指導教員へお伝えください。「修士論文に必要なため」等具体的な理由を指導教員にお伝えください。単に、「興味があるため」等の理由では許可されません。他専攻科目登録方法を抜粋したマニュアルは、下記の「学内共有ファイル」にあります。\n",
    "'''\n",
    "\n",
    "doc3 = nlp(text3)\n",
    "\n",
    "#重要部分をresultsに保存する\n",
    "results=[]\n",
    "for chunk in doc3.noun_chunks:\n",
    "    results.append((chunk.text, chunk.similarity(doc3)))\n",
    "\n",
    "#上位10個の名詞句を表示する\n",
    "print(sorted(results, key=lambda x: x[1],reverse=True)[:10])\n",
    "\n",
    "\n"
   ]
  }
 ],
 "metadata": {
  "kernelspec": {
   "display_name": "Python 3.7.9 ('venv': venv)",
   "language": "python",
   "name": "python3"
  },
  "language_info": {
   "codemirror_mode": {
    "name": "ipython",
    "version": 3
   },
   "file_extension": ".py",
   "mimetype": "text/x-python",
   "name": "python",
   "nbconvert_exporter": "python",
   "pygments_lexer": "ipython3",
   "version": "3.7.9"
  },
  "orig_nbformat": 4,
  "vscode": {
   "interpreter": {
    "hash": "bd1e28d9b8f161f331e3b6c76987692a1c41a7261a9c401d9d6717c4d81bbcc7"
   }
  }
 },
 "nbformat": 4,
 "nbformat_minor": 2
}
